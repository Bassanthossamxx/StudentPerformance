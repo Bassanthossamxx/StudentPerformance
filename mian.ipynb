{
 "cells": [
  {
   "cell_type": "code",
   "execution_count": 16,
   "id": "e69b2889",
   "metadata": {},
   "outputs": [
    {
     "name": "stdout",
     "output_type": "stream",
     "text": [
      "  school sex  age address famsize Pstatus  Medu  Fedu     Mjob      Fjob  ...  \\\n",
      "0     GP   F   18       U     GT3       A     4     4  at_home   teacher  ...   \n",
      "1     GP   F   17       U     GT3       T     1     1  at_home     other  ...   \n",
      "2     GP   F   15       U     LE3       T     1     1  at_home     other  ...   \n",
      "3     GP   F   15       U     GT3       T     4     2   health  services  ...   \n",
      "4     GP   F   16       U     GT3       T     3     3    other     other  ...   \n",
      "\n",
      "  famrel freetime  goout  Dalc  Walc health absences  G1  G2  G3  \n",
      "0      4        3      4     1     1      3        6   5   6   6  \n",
      "1      5        3      3     1     1      3        4   5   5   6  \n",
      "2      4        3      2     2     3      3       10   7   8  10  \n",
      "3      3        2      2     1     1      5        2  15  14  15  \n",
      "4      4        3      2     1     2      5        4   6  10  10  \n",
      "\n",
      "[5 rows x 33 columns]\n"
     ]
    }
   ],
   "source": [
    "import pandas as pd\n",
    "\n",
    "\n",
    "df = pd.read_csv(\"data/student-mat.csv\", sep=\";\")\n",
    "print(df.head()) # so we have  [5 rows x 33 columns]"
   ]
  },
  {
   "cell_type": "code",
   "execution_count": 22,
   "id": "6f87f76e",
   "metadata": {},
   "outputs": [
    {
     "name": "stdout",
     "output_type": "stream",
     "text": [
      "age                  0\n",
      "Medu                 0\n",
      "Fedu                 0\n",
      "traveltime           0\n",
      "studytime            0\n",
      "failures             0\n",
      "famrel               0\n",
      "freetime             0\n",
      "goout                0\n",
      "Dalc                 0\n",
      "Walc                 0\n",
      "health               0\n",
      "absences             0\n",
      "G1                   0\n",
      "G2                   0\n",
      "G3                   0\n",
      "school_MS            0\n",
      "sex_M                0\n",
      "address_U            0\n",
      "famsize_LE3          0\n",
      "Pstatus_T            0\n",
      "Mjob_health          0\n",
      "Mjob_other           0\n",
      "Mjob_services        0\n",
      "Mjob_teacher         0\n",
      "Fjob_health          0\n",
      "Fjob_other           0\n",
      "Fjob_services        0\n",
      "Fjob_teacher         0\n",
      "reason_home          0\n",
      "reason_other         0\n",
      "reason_reputation    0\n",
      "guardian_mother      0\n",
      "guardian_other       0\n",
      "schoolsup_yes        0\n",
      "famsup_yes           0\n",
      "paid_yes             0\n",
      "activities_yes       0\n",
      "nursery_yes          0\n",
      "higher_yes           0\n",
      "internet_yes         0\n",
      "romantic_yes         0\n",
      "avg_grade            0\n",
      "dtype: int64\n",
      "age                  float64\n",
      "Medu                   int64\n",
      "Fedu                   int64\n",
      "traveltime             int64\n",
      "studytime              int64\n",
      "failures               int64\n",
      "famrel                 int64\n",
      "freetime               int64\n",
      "goout                  int64\n",
      "Dalc                   int64\n",
      "Walc                   int64\n",
      "health                 int64\n",
      "absences             float64\n",
      "G1                   float64\n",
      "G2                   float64\n",
      "G3                     int64\n",
      "school_MS               bool\n",
      "sex_M                   bool\n",
      "address_U               bool\n",
      "famsize_LE3             bool\n",
      "Pstatus_T               bool\n",
      "Mjob_health             bool\n",
      "Mjob_other              bool\n",
      "Mjob_services           bool\n",
      "Mjob_teacher            bool\n",
      "Fjob_health             bool\n",
      "Fjob_other              bool\n",
      "Fjob_services           bool\n",
      "Fjob_teacher            bool\n",
      "reason_home             bool\n",
      "reason_other            bool\n",
      "reason_reputation       bool\n",
      "guardian_mother         bool\n",
      "guardian_other          bool\n",
      "schoolsup_yes           bool\n",
      "famsup_yes              bool\n",
      "paid_yes                bool\n",
      "activities_yes          bool\n",
      "nursery_yes             bool\n",
      "higher_yes              bool\n",
      "internet_yes            bool\n",
      "romantic_yes            bool\n",
      "avg_grade            float64\n",
      "dtype: object\n"
     ]
    }
   ],
   "source": [
    "print(df.isnull().sum())\n",
    "\n",
    "print(df.dtypes)"
   ]
  },
  {
   "cell_type": "code",
   "execution_count": 18,
   "id": "93b4875d",
   "metadata": {},
   "outputs": [],
   "source": [
    "df = df.dropna()"
   ]
  },
  {
   "cell_type": "markdown",
   "id": "49cd7369",
   "metadata": {},
   "source": [
    "so the data type in int and theres no null values in our dataset \n"
   ]
  },
  {
   "cell_type": "code",
   "execution_count": 23,
   "id": "11a1af86",
   "metadata": {},
   "outputs": [
    {
     "name": "stdout",
     "output_type": "stream",
     "text": [
      "        age  Medu  Fedu  traveltime  studytime  failures  famrel  freetime  \\\n",
      "0  1.023046     4     4           2          2         0       4         3   \n",
      "1  0.238380     1     1           1          2         0       5         3   \n",
      "2 -1.330954     1     1           1          2         3       4         3   \n",
      "3 -1.330954     4     2           1          3         0       3         2   \n",
      "4 -0.546287     3     3           1          2         0       4         3   \n",
      "\n",
      "   goout  Dalc  ...  guardian_other  schoolsup_yes  famsup_yes  paid_yes  \\\n",
      "0      4     1  ...           False           True       False     False   \n",
      "1      3     1  ...           False          False        True     False   \n",
      "2      2     2  ...           False           True       False      True   \n",
      "3      2     1  ...           False          False        True      True   \n",
      "4      2     1  ...           False          False        True      True   \n",
      "\n",
      "   activities_yes  nursery_yes  higher_yes  internet_yes  romantic_yes  \\\n",
      "0           False         True        True         False         False   \n",
      "1           False        False        True          True         False   \n",
      "2           False         True        True          True         False   \n",
      "3            True         True        True          True          True   \n",
      "4           False         True        True         False         False   \n",
      "\n",
      "   avg_grade  \n",
      "0  -1.518629  \n",
      "1  -1.651723  \n",
      "2  -0.950781  \n",
      "3   1.054424  \n",
      "4  -0.835423  \n",
      "\n",
      "[5 rows x 43 columns]\n"
     ]
    }
   ],
   "source": [
    "df = pd.get_dummies(df, drop_first=True)\n",
    "print(df.head())"
   ]
  },
  {
   "cell_type": "code",
   "execution_count": 20,
   "id": "cb8ce73c",
   "metadata": {},
   "outputs": [],
   "source": [
    "# !pip install scikit-learn\n",
    "from sklearn.preprocessing import StandardScaler\n",
    "\n",
    "scaler = StandardScaler()\n",
    "num_cols = ['age', 'absences', 'G1', 'G2']\n",
    "df[num_cols] = scaler.fit_transform(df[num_cols])\n",
    "\n"
   ]
  },
  {
   "cell_type": "markdown",
   "id": "4ac70071",
   "metadata": {},
   "source": [
    "###  Feature Scaling with StandardScaler\n",
    "\n",
    "We standardize numerical features (`age`, `absences`, `G1`, `G2`) using `StandardScaler` from scikit-learn.  \n",
    "This scales the data to have a mean of 0 and standard deviation of 1 — useful for improving model performance.\n",
    "\n",
    "\\[\n",
    "x_{scaled} = \\frac{x - \\mu}{\\sigma}\n",
    "\\]\n"
   ]
  },
  {
   "cell_type": "code",
   "execution_count": null,
   "id": "1c5d491a",
   "metadata": {},
   "outputs": [],
   "source": [
    "df['avg_grade'] = (df['G1'] + df['G2']) / 2\n",
    "\n",
    "print(df.head())\n"
   ]
  },
  {
   "cell_type": "markdown",
   "id": "a7302366",
   "metadata": {},
   "source": [
    "okay this a new feature with the average of G1,G2 to be compared to the predicted G3"
   ]
  },
  {
   "cell_type": "code",
   "execution_count": null,
   "id": "35f78030",
   "metadata": {},
   "outputs": [],
   "source": [
    "X = df.drop('G3', axis=1)\n",
    "y = df['G3']"
   ]
  },
  {
   "cell_type": "markdown",
   "id": "0556bef5",
   "metadata": {},
   "source": [
    "splitting the data to input and output"
   ]
  },
  {
   "cell_type": "code",
   "execution_count": null,
   "id": "1bddd0bd",
   "metadata": {},
   "outputs": [],
   "source": [
    "from sklearn.model_selection import train_test_split\n",
    "\n",
    "X_train, X_test, y_train, y_test = train_test_split(X, y, test_size=0.2, random_state=42)"
   ]
  },
  {
   "cell_type": "markdown",
   "id": "6051b784",
   "metadata": {},
   "source": [
    "splitting into data training set and testing set "
   ]
  },
  {
   "cell_type": "code",
   "execution_count": 24,
   "id": "1156e5b9",
   "metadata": {},
   "outputs": [],
   "source": [
    "from sklearn.svm import SVR\n",
    "\n",
    "svr = SVR(kernel='linear')\n",
    "svr.fit(X_train, y_train)\n",
    "y_pred = svr.predict(X_test)"
   ]
  },
  {
   "cell_type": "code",
   "execution_count": 29,
   "id": "fca794b8",
   "metadata": {},
   "outputs": [
    {
     "name": "stderr",
     "output_type": "stream",
     "text": [
      "No artists with labels found to put in legend.  Note that artists whose label start with an underscore are ignored when legend() is called with no argument.\n"
     ]
    },
    {
     "data": {
      "image/png": "[encoded data removed]",
      "text/plain": [
       "<Figure size 800x600 with 1 Axes>"
      ]
     },
     "metadata": {},
     "output_type": "display_data"
    }
   ],
   "source": [
    "import matplotlib.pyplot as plt\n",
    "import numpy as np\n",
    "\n",
    "plt.figure(figsize=(8, 6))\n",
    "plt.scatter(y_test, y_pred, alpha=0.6, s=60, c=y_pred, cmap='viridis')\n",
    "\n",
    "\n",
    "plt.title(\"SVR: Actual vs Predicted G3\", fontsize=16)\n",
    "plt.xlabel(\"Actual G3\")\n",
    "plt.ylabel(\"Predicted G3\")\n",
    "plt.grid(True)\n",
    
    "plt.show()"
   ]
  }
 ],
 "metadata": {
  "kernelspec": {
   "display_name": "Python 3",
   "language": "python",
   "name": "python3"
  },
  "language_info": {
   "codemirror_mode": {
    "name": "ipython",
    "version": 3
   },
   "file_extension": ".py",
   "mimetype": "text/x-python",
   "name": "python",
   "nbconvert_exporter": "python",
   "pygments_lexer": "ipython3",
   "version": "3.10.11"
  }
 },
 "nbformat": 4,
 "nbformat_minor": 5
}
